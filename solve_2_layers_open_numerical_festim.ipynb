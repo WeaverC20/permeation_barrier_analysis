{
 "cells": [
  {
   "cell_type": "code",
   "execution_count": 66,
   "id": "fdff21d1",
   "metadata": {},
   "outputs": [],
   "source": [
    "import festim as F"
   ]
  },
  {
   "cell_type": "code",
   "execution_count": 67,
   "id": "3b50c4ca",
   "metadata": {},
   "outputs": [],
   "source": [
    "# --- Parameters (numerical) --- unused as of now\n",
    "D1 = 6e-11           # inconel\n",
    "D2 = 1.54e-11        # 316L steel\n",
    "x0 = 0.0\n",
    "xint = 0.5\n",
    "L = 1.0\n",
    "P = 1e5\n",
    "\n",
    "Kd1 = 3e13\n",
    "Kr1 = 2.68e-30\n",
    "Kd2 = 8e11\n",
    "Kr2 = 2.4e-33\n",
    "\n",
    "S1 = float((Kd1 / Kr1) ** 0.5)\n",
    "S2 = float((Kd2 / Kr2) ** 0.5)"
   ]
  },
  {
   "cell_type": "code",
   "execution_count": 68,
   "id": "2e952e71",
   "metadata": {},
   "outputs": [],
   "source": [
    "my_model = F.Simulation()"
   ]
  },
  {
   "cell_type": "code",
   "execution_count": 69,
   "id": "eb548bc8",
   "metadata": {},
   "outputs": [],
   "source": [
    "barrier_thick = 0.01\n",
    "substrate_thick = 0.01\n",
    "\n",
    "barrier = F.Material(\n",
    "    id=1,\n",
    "    D_0=1e-8,\n",
    "    E_D=0.39,\n",
    "    S_0=1e22,\n",
    "    E_S=1.04,\n",
    "    borders=[0, barrier_thick]\n",
    "    )\n",
    "\n",
    "# tungsten\n",
    "substrate = F.Material(\n",
    "    id=2,\n",
    "    D_0=4.1e-7,\n",
    "    E_D=0.39,\n",
    "    S_0=1.87e24,\n",
    "    E_S=1.04,\n",
    "    borders=[barrier_thick, substrate_thick + barrier_thick]\n",
    "    )\n",
    "\n",
    "my_model.materials = [barrier, substrate]"
   ]
  },
  {
   "cell_type": "code",
   "execution_count": 70,
   "id": "b5fa3a11",
   "metadata": {},
   "outputs": [],
   "source": [
    "import numpy as np\n",
    "\n",
    "vertices_barrier = np.linspace(0, barrier_thick, num=200)\n",
    "\n",
    "vertices_substrate = np.linspace(\n",
    "    barrier_thick, substrate_thick + barrier_thick, num=200)\n",
    "\n",
    "vertices = np.concatenate([vertices_barrier, vertices_substrate])\n",
    "\n",
    "my_model.mesh = F.MeshFromVertices(vertices)"
   ]
  },
  {
   "cell_type": "code",
   "execution_count": 71,
   "id": "3372440e",
   "metadata": {},
   "outputs": [],
   "source": [
    "my_model.T = 500\n",
    "P_up = 100  # Pa\n",
    "\n",
    "left_bc = F.SievertsBC(\n",
    "    surfaces=1,\n",
    "    S_0=barrier.S_0,\n",
    "    E_S=barrier.E_S,\n",
    "    pressure=P_up\n",
    "    )\n",
    "\n",
    "right_bc = F.DirichletBC(\n",
    "    field=\"solute\",\n",
    "    surfaces=2,\n",
    "    value=0\n",
    "    )\n",
    "\n",
    "my_model.boundary_conditions = [left_bc, right_bc]\n",
    "\n",
    "# my_model.boundary_conditions = [\n",
    "#         F.DissociationFlux(Kd_0=Kd1, E_Kd=0, P=P_up, surfaces=1),\n",
    "#         F.RecombinationFlux(Kr_0=Kr1, E_Kr=0, order=2, surfaces=1),\n",
    "#         F.RecombinationFlux(Kr_0=Kr2, E_Kr=0, order=2, surfaces=2),\n",
    "#     ]"
   ]
  },
  {
   "cell_type": "code",
   "execution_count": 72,
   "id": "0f06fb7f",
   "metadata": {},
   "outputs": [],
   "source": [
    "times_input = [0.05, 1, 10, 100]\n",
    "\n",
    "my_model.settings = F.Settings(\n",
    "    absolute_tolerance=1e10, relative_tolerance=1e-10, final_time=100  # s\n",
    ")\n",
    "my_model.dt = F.Stepsize(0.001, milestones=times_input, stepsize_change_ratio=1.01)  # s\n",
    "\n",
    "results_folder = \"results\"\n",
    "my_model.exports = [\n",
    "    F.XDMFExport(\n",
    "        field=\"solute\",\n",
    "        filename=results_folder + \"/hydrogen_concentration.xdmf\",\n",
    "        checkpoint=False,  # needed in 1D\n",
    "    ),\n",
    "    F.TXTExport(\n",
    "        field=\"solute\",\n",
    "        times=times_input,\n",
    "        filename=results_folder + \"/mobile_concentration.txt\",\n",
    "    ),\n",
    "]\n",
    "\n",
    "\n",
    "\n",
    "\n",
    "# my_model.settings.transient = False\n",
    "# my_model.dt = None\n",
    "\n",
    "# results_folder = \"results\"\n",
    "# my_model.exports = [\n",
    "#     F.TXTExport(\n",
    "#         field=\"solute\", filename=results_folder + \"/mobile_concentration_steady.txt\"\n",
    "#     )\n",
    "# ]"
   ]
  },
  {
   "cell_type": "code",
   "execution_count": 73,
   "id": "1b357372",
   "metadata": {},
   "outputs": [
    {
     "name": "stdout",
     "output_type": "stream",
     "text": [
      "Defining initial values\n",
      "Defining variational problem\n",
      "Defining source terms\n",
      "Defining boundary conditions\n",
      "Time stepping...\n",
      "100.0 %        1.0e+02 s    Elapsed time so far: 1.9 s\n"
     ]
    }
   ],
   "source": [
    "my_model.initialise()\n",
    "\n",
    "my_model.run()"
   ]
  },
  {
   "cell_type": "code",
   "execution_count": 74,
   "id": "8d4e4dc2",
   "metadata": {},
   "outputs": [
    {
     "data": {
      "image/png": "[encoded data removed]",
      "text/plain": [
       "<Figure size 640x480 with 1 Axes>"
      ]
     },
     "metadata": {},
     "output_type": "display_data"
    }
   ],
   "source": [
    "import matplotlib.pyplot as plt\n",
    "\n",
    "data = np.genfromtxt(\n",
    "    results_folder + \"/mobile_concentration.txt\", skip_header=1, delimiter=\",\"\n",
    ")\n",
    "\n",
    "plt.plot(data[:, 0], data[:, 4], label=f\"{float(times_input[3])}s\")\n",
    "plt.plot(data[:, 0], data[:, 3], label=f\"{float(times_input[2])}s\")\n",
    "plt.plot(data[:, 0], data[:, 2], label=f\"{float(times_input[1])}s\")\n",
    "plt.plot(data[:, 0], data[:, 1], label=f\"{float(times_input[0])}s\")\n",
    "\n",
    "plt.xlabel(\"x (m)\")\n",
    "plt.ylabel(\"Mobile concentration (H/m3)\")\n",
    "plt.legend()\n",
    "plt.show()\n",
    "\n",
    "\n",
    "\n",
    "\n",
    "\n",
    "\n",
    "# import matplotlib.pyplot as plt\n",
    "\n",
    "# data = np.genfromtxt(\n",
    "#     results_folder + \"/mobile_concentration_steady.txt\", skip_header=1, delimiter=\",\"\n",
    "# )\n",
    "\n",
    "# plt.plot(data[:, 0], data[:, 1])\n",
    "# plt.xlabel(\"x (m)\")\n",
    "# plt.ylabel(\"Mobile concentration (H/m3)\")\n",
    "# plt.show()"
   ]
  }
 ],
 "metadata": {
  "kernelspec": {
   "display_name": "permeation-barrier-env",
   "language": "python",
   "name": "python3"
  },
  "language_info": {
   "codemirror_mode": {
    "name": "ipython",
    "version": 3
   },
   "file_extension": ".py",
   "mimetype": "text/x-python",
   "name": "python",
   "nbconvert_exporter": "python",
   "pygments_lexer": "ipython3",
   "version": "3.12.9"
  }
 },
 "nbformat": 4,
 "nbformat_minor": 5
}
