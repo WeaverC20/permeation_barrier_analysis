{
 "cells": [
  {
   "cell_type": "code",
   "execution_count": 1,
   "id": "2d033637",
   "metadata": {},
   "outputs": [],
   "source": [
    "import festim as F\n",
    "import numpy as np\n",
    "from festim2_solve_functions import *\n",
    "from festim2_barrier_sweep_functions import *\n",
    "from pathlib import Path\n",
    "import csv"
   ]
  },
  {
   "cell_type": "code",
   "execution_count": 2,
   "id": "8051f2c3",
   "metadata": {},
   "outputs": [],
   "source": [
    "T = 600  # K\n",
    "P_up = 100 # Pa\n",
    "barrier_thickness = 3e-3  # m\n",
    "substrate_thickness = 3e-3  # m\n",
    "\n",
    "results_folder = \"results\"\n",
    "results_dir = Path(results_folder)  # convert str to Path\n",
    "results_dir.mkdir(parents=True, exist_ok=True)\n",
    "csv_path = results_dir / \"sweep_results.csv\""
   ]
  },
  {
   "cell_type": "code",
   "execution_count": 3,
   "id": "9f8e940c",
   "metadata": {},
   "outputs": [],
   "source": [
    "base_params = {\n",
    "    \"D_0_barrier\": 1e-8,  # m2/s\n",
    "    \"E_D_barrier\": 0.39,  # eV\n",
    "    \"S_0_barrier\": 1e22,  # mol/m3Pa^0.5\n",
    "    \"E_S_barrier\": 1.04,  # eV\n",
    "    \"K_r_0_barrier\": 3.2e-15,  # m2/s Anderl 1992\n",
    "    \"E_K_r_barrier\": 1.16,  # eV Anderl 1992\n",
    "    \"D_0_substrate\": 4.1e-7,  # m2/s\n",
    "    \"E_D_substrate\": 0.39,  # eV\n",
    "    \"S_0_substrate\": 1.87e24,  # mol/m3Pa^0.5\n",
    "    \"E_S_substrate\": 1.04,  # eV\n",
    "    \"K_r_0_substrate\": 5.4e-19,  # m2/s\n",
    "    \"E_K_r_substrate\": 15600 / 96491,  # converting to eV from F. WAELBROECK et al\n",
    "}\n",
    "\n",
    "n_points = 5\n",
    "S_0_limits = (1e19, 1e23)  # mol/m3Pa^0.5\n",
    "D_0_limits = (1e-11, 1e-5)  # m2/s\n",
    "\n",
    "# generate list of parameter sets to run\n",
    "param_list = generate_params_list(base_params, S_0_limits, D_0_limits, n_points)"
   ]
  },
  {
   "cell_type": "code",
   "execution_count": 4,
   "id": "dc559a27",
   "metadata": {},
   "outputs": [
    {
     "name": "stdout",
     "output_type": "stream",
     "text": [
      "Completed run 0 of 625\n",
      "Completed run 100 of 625\n",
      "Completed run 200 of 625\n",
      "Completed run 300 of 625\n",
      "Completed run 400 of 625\n",
      "Completed run 500 of 625\n",
      "Completed run 600 of 625\n"
     ]
    }
   ],
   "source": [
    "need_header = not csv_path.exists()\n",
    "\n",
    "with csv_path.open(\"w\", newline=\"\") as f:\n",
    "    writer = csv.DictWriter(f, fieldnames=fieldnames)\n",
    "    if need_header:\n",
    "        writer.writeheader()\n",
    "\n",
    "    for run_num in range(len(param_list)):\n",
    "        params = param_list[run_num]\n",
    "\n",
    "        my_model = F.HydrogenTransportProblemDiscontinuous()\n",
    "\n",
    "        create_mesh(my_model, barrier_thickness, substrate_thickness)\n",
    "\n",
    "        barrier, substrate, H = assign_materials_and_domains(my_model, params, barrier_thickness, substrate_thickness, T=T, P_up=P_up)\n",
    "\n",
    "        my_model.settings = F.Settings(\n",
    "            atol=1e-6,\n",
    "            rtol=1e-10,\n",
    "            transient=False,\n",
    "        )\n",
    "\n",
    "        barrier_export, substrate_export = set_exports(my_model, barrier, substrate, H)\n",
    "\n",
    "        my_model.initialise()\n",
    "        my_model.run()\n",
    "\n",
    "        C1 = barrier_export.data[0][0]  # concentration at the left side of the barrier\n",
    "        Cm1 = barrier_export.data[0][-1]  # concentration at the right side of the barrier\n",
    "        Cm2 = substrate_export.data[0][0]  # concentration at the left side of the substrate\n",
    "        C2 = substrate_export.data[0][-1]  # concentration at the right side of the substrate\n",
    "        W, R = compute_W_R(params, barrier_thickness, substrate_thickness, T=T, P_up=P_up)\n",
    "\n",
    "        row = {\n",
    "            \"run\": run_num,\n",
    "            \"barrier_thickness\": float(barrier_thickness),\n",
    "            \"substrate_thickness\": float(substrate_thickness),\n",
    "            \"T\": float(T),\n",
    "            \"P_up\": float(P_up),\n",
    "            \"C1\": C1,\n",
    "            \"Cm1\": Cm1,\n",
    "            \"Cm2\": Cm2,\n",
    "            \"C2\": C2,\n",
    "            \"W\": float(W),\n",
    "            \"R\": float(R),\n",
    "        }\n",
    "        for k in param_keys:\n",
    "            row[k] = float(params[k])\n",
    "\n",
    "        writer.writerow(row)\n",
    "\n",
    "        if run_num % 100 == 0:\n",
    "            print(f\"Completed run {run_num} of {len(param_list)}\")\n",
    "    \n"
   ]
  },
  {
   "cell_type": "markdown",
   "id": "315aca01",
   "metadata": {},
   "source": []
  },
  {
   "cell_type": "code",
   "execution_count": null,
   "id": "75ce0c95",
   "metadata": {},
   "outputs": [],
   "source": []
  }
 ],
 "metadata": {
  "kernelspec": {
   "display_name": "festim2-env",
   "language": "python",
   "name": "python3"
  },
  "language_info": {
   "codemirror_mode": {
    "name": "ipython",
    "version": 3
   },
   "file_extension": ".py",
   "mimetype": "text/x-python",
   "name": "python",
   "nbconvert_exporter": "python",
   "pygments_lexer": "ipython3",
   "version": "3.13.7"
  }
 },
 "nbformat": 4,
 "nbformat_minor": 5
}
