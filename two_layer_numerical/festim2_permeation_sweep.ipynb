{
 "cells": [
  {
   "cell_type": "code",
   "execution_count": 1,
   "id": "2d033637",
   "metadata": {},
   "outputs": [],
   "source": [
    "import festim as F\n",
    "import numpy as np\n",
    "from festim2_solve_functions import *"
   ]
  },
  {
   "cell_type": "code",
   "execution_count": 2,
   "id": "dc559a27",
   "metadata": {},
   "outputs": [],
   "source": [
    "params = {\n",
    "    \"D_0_barrier\": 1e-8,  # m2/s\n",
    "    \"E_D_barrier\": 0.39,  # eV\n",
    "    \"S_0_barrier\": 1e22,  # mol/m3Pa^0.5\n",
    "    \"E_S_barrier\": 1.04,  # eV\n",
    "    \"K_r_0_barrier\": 3.2e-15,  # m2/s Anderl 1992\n",
    "    \"E_K_r_barrier\": 1.16,  # eV Anderl 1992\n",
    "    \"D_0_substrate\": 4.1e-7,  # m2/s\n",
    "    \"E_D_substrate\": 0.39,  # eV\n",
    "    \"S_0_substrate\": 1.87e24,  # mol/m3Pa^0.5\n",
    "    \"E_S_substrate\": 1.04,  # eV\n",
    "    \"K_r_0_substrate\": 5.4e-19,  # m2/s\n",
    "    \"E_K_r_substrate\": 15600 / 96491,  # converting to eV from F. WAELBROECK et al\n",
    "}\n",
    "\n",
    "T = 600  # K\n",
    "P_up = 100 # Pa\n",
    "barrier_thickness = 3e-6  # m\n",
    "substrate_thickness = 3e-3  # m\n",
    "\n",
    "results_folder = \"results\""
   ]
  },
  {
   "cell_type": "code",
   "execution_count": 3,
   "id": "f0fce88f",
   "metadata": {},
   "outputs": [],
   "source": [
    "my_model = F.HydrogenTransportProblemDiscontinuous()\n",
    "\n",
    "create_mesh(my_model, barrier_thickness, substrate_thickness)\n",
    "\n",
    "barrier, substrate, H = assign_materials_and_domains(my_model, params, barrier_thickness, substrate_thickness, T=T, P_up=P_up)\n",
    "\n",
    "my_model.settings = F.Settings(\n",
    "    atol=1e-6,\n",
    "    rtol=1e-10,\n",
    "    transient=False,\n",
    ")\n",
    "\n",
    "barrier_export, substrate_export = set_exports(my_model, barrier, substrate, H)"
   ]
  },
  {
   "cell_type": "code",
   "execution_count": null,
   "id": "19278b78",
   "metadata": {},
   "outputs": [
    {
     "name": "stdout",
     "output_type": "stream",
     "text": [
      "W = 1.58e+00 mol/m2/s/Pa^0.5\n",
      "R = 1.43e+09 Pa^0.5 s m2/mol\n",
      "2.12e+13\n",
      "3.96e+15\n"
     ]
    }
   ],
   "source": [
    "my_model.initialise()\n",
    "my_model.run()\n",
    "\n",
    "W, R = compute_W_R(params, barrier_thickness, substrate_thickness, T=T, P_up=P_up)\n",
    "\n",
    "print(f\"W = {W:.2e}\")\n",
    "print(f\"R = {R:.2e}\")\n",
    "\n",
    "print(f\"{barrier_export.data[0][-1]:.2e}\")\n",
    "print(f\"{substrate_export.data[0][0]:.2e}\")"
   ]
  }
 ],
 "metadata": {
  "kernelspec": {
   "display_name": "festim2-env",
   "language": "python",
   "name": "python3"
  },
  "language_info": {
   "codemirror_mode": {
    "name": "ipython",
    "version": 3
   },
   "file_extension": ".py",
   "mimetype": "text/x-python",
   "name": "python",
   "nbconvert_exporter": "python",
   "pygments_lexer": "ipython3",
   "version": "3.13.7"
  }
 },
 "nbformat": 4,
 "nbformat_minor": 5
}
