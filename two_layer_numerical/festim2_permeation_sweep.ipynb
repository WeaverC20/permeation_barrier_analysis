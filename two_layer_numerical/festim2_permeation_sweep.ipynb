{
 "cells": [
  {
   "cell_type": "code",
   "execution_count": null,
   "id": "2d033637",
   "metadata": {},
   "outputs": [],
   "source": [
    "import festim as F\n",
    "import numpy as np\n",
    "from festim2_solve_functions import *"
   ]
  },
  {
   "cell_type": "code",
   "execution_count": null,
   "id": "dc559a27",
   "metadata": {},
   "outputs": [],
   "source": [
    "params = {\n",
    "    \"D_0_barrier\": 1e-8,  # m2/s\n",
    "    \"E_D_barrier\": 0.39,  # eV\n",
    "    \"S_0_barrier\": 1e22,  # mol/m3Pa^0.5\n",
    "    \"E_S_barrier\": 1.04,  # eV\n",
    "    \"K_r_0_barrier\": 3.2e-15,  # m2/s Anderl 1992\n",
    "    \"E_K_r_barrier\": 1.16,  # eV Anderl 1992\n",
    "    \"D_0_substrate\": 4.1e-7,  # m2/s\n",
    "    \"E_D_substrate\": 0.39,  # eV\n",
    "    \"S_0_substrate\": 1.87e24,  # mol/m3Pa^0.5\n",
    "    \"E_S_substrate\": 1.04,  # eV\n",
    "    \"K_r_0_substrate\": 5.4e-19,  # m2/s\n",
    "    \"E_K_r_substrate\": 15600 / 96491,  # converting to eV from F. WAELBROECK et al\n",
    "}\n",
    "\n",
    "T = 600  # K\n",
    "P_up = 100 # Pa\n",
    "barrier_thick = 3e-6  # m\n",
    "substrate_thick = 3e-3  # m\n",
    "\n",
    "results_folder = \"results\""
   ]
  }
 ],
 "metadata": {
  "language_info": {
   "name": "python"
  }
 },
 "nbformat": 4,
 "nbformat_minor": 5
}
